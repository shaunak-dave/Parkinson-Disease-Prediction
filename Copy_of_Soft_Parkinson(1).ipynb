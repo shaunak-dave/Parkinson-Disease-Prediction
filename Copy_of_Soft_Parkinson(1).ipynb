{
  "nbformat": 4,
  "nbformat_minor": 0,
  "metadata": {
    "colab": {
      "name": "Copy of Soft_Parkinson(1).ipynb",
      "provenance": [],
      "collapsed_sections": [],
      "include_colab_link": true
    },
    "kernelspec": {
      "display_name": "Python 3",
      "name": "python3"
    },
    "language_info": {
      "name": "python"
    }
  },
  "cells": [
    {
      "cell_type": "markdown",
      "metadata": {
        "id": "view-in-github",
        "colab_type": "text"
      },
      "source": [
        "<a href=\"https://colab.research.google.com/github/shaunak-dave/Parkinson-Disease-Prediction/blob/main/Copy_of_Soft_Parkinson(1).ipynb\" target=\"_parent\"><img src=\"https://colab.research.google.com/assets/colab-badge.svg\" alt=\"Open In Colab\"/></a>"
      ]
    },
    {
      "cell_type": "code",
      "metadata": {
        "id": "8K6WC_HeMln4"
      },
      "source": [
        "import os\n",
        "import glob\n",
        "import numpy as np\n",
        "import cv2\n",
        "import matplotlib.pyplot as plt\n",
        "import random"
      ],
      "execution_count": null,
      "outputs": []
    },
    {
      "cell_type": "code",
      "metadata": {
        "colab": {
          "base_uri": "https://localhost:8080/"
        },
        "id": "OdfbsjvhLIhB",
        "outputId": "b1fabeac-8358-44a6-93c4-7b4b1b900ddb"
      },
      "source": [
        "from google.colab import drive\n",
        "drive.mount('/content/gdrive')"
      ],
      "execution_count": null,
      "outputs": [
        {
          "output_type": "stream",
          "name": "stdout",
          "text": [
            "Drive already mounted at /content/gdrive; to attempt to forcibly remount, call drive.mount(\"/content/gdrive\", force_remount=True).\n"
          ]
        }
      ]
    },
    {
      "cell_type": "code",
      "metadata": {
        "colab": {
          "base_uri": "https://localhost:8080/"
        },
        "id": "saDvQ8EuLbTK",
        "outputId": "4884399a-abcc-46df-d136-c5cbc860ecf9"
      },
      "source": [
        "print(os.listdir(\"/content/gdrive/MyDrive/spiral\"))"
      ],
      "execution_count": null,
      "outputs": [
        {
          "output_type": "stream",
          "name": "stdout",
          "text": [
            "['training', 'testing']\n"
          ]
        }
      ]
    },
    {
      "cell_type": "code",
      "metadata": {
        "id": "u782u9EGLbVp"
      },
      "source": [
        "directory='/content/gdrive/MyDrive/spiral/training'\n",
        "category=['healthy','parkinson']\n",
        "spiral_train_data=[]\n",
        "spiral_train_labels= [] \n",
        "for i in category:\n",
        "  folder=os.path.join(directory,i)\n",
        "  label=category.index(i)\n",
        "  for img in os.listdir(folder):\n",
        "    img_path=os.path.join(folder,img)\n",
        "    imgarr=cv2.imread(img_path)\n",
        "    imgarr=cv2.resize(imgarr,(128,128))\n",
        "    spiral_train_data.append(imgarr)\n",
        "    spiral_train_labels.append(label)\n",
        "\n",
        "\n",
        "\n",
        "directory='/content/gdrive/MyDrive/spiral/testing'\n",
        "category=['healthy','parkinson']\n",
        "spiral_test_data=[]\n",
        "spiral_test_labels = [] \n",
        "for i in category:\n",
        "  folder=os.path.join(directory,i)\n",
        "  label=category.index(i)\n",
        "  for img in os.listdir(folder):\n",
        "    img_path=os.path.join(folder,img)\n",
        "    imgarr=cv2.imread(img_path)\n",
        "    imgarr=cv2.resize(imgarr,(128,128))\n",
        "    spiral_test_data.append(imgarr)\n",
        "    spiral_test_labels.append(label)"
      ],
      "execution_count": null,
      "outputs": []
    },
    {
      "cell_type": "code",
      "metadata": {
        "id": "i99yG5yNLbX5"
      },
      "source": [
        "directory='/content/gdrive/MyDrive/wave/training'\n",
        "category=['healthy','parkinson']\n",
        "wave_train_data=[]\n",
        "wave_train_labels = [] \n",
        "for i in category:\n",
        "  folder=os.path.join(directory,i)\n",
        "  label=category.index(i)\n",
        "  for img in os.listdir(folder):\n",
        "    img_path=os.path.join(folder,img)\n",
        "    imgarr=cv2.imread(img_path)\n",
        "    imgarr=cv2.resize(imgarr,(128,128))\n",
        "    wave_train_data.append(imgarr)\n",
        "    wave_train_labels.append(label)\n",
        "\n",
        "\n",
        "\n",
        "directory='/content/gdrive/MyDrive/wave/testing'\n",
        "category=['healthy','parkinson']\n",
        "wave_test_data=[]\n",
        "wave_test_labels = [] \n",
        "for i in category:\n",
        "  folder=os.path.join(directory,i)\n",
        "  label=category.index(i)\n",
        "  for img in os.listdir(folder):\n",
        "    img_path=os.path.join(folder,img)\n",
        "    imgarr=cv2.imread(img_path)\n",
        "    imgarr=cv2.resize(imgarr,(128,128))\n",
        "    wave_test_data.append(imgarr)\n",
        "    wave_test_labels.append(label)"
      ],
      "execution_count": null,
      "outputs": []
    },
    {
      "cell_type": "code",
      "metadata": {
        "id": "fZftjsXmLbaB"
      },
      "source": [
        "spiral_test_data=np.array(spiral_test_data)\n",
        "spiral_test_labels=np.array(spiral_test_labels)\n",
        "spiral_train_data=np.array(spiral_train_data)\n",
        "spiral_train_labels=np.array(spiral_train_labels)\n",
        "\n",
        "wave_test_data=np.array(wave_test_data)\n",
        "wave_test_labels=np.array(wave_test_labels)\n",
        "wave_train_data=np.array(wave_train_data)\n",
        "wave_train_labels=np.array(wave_train_labels)"
      ],
      "execution_count": null,
      "outputs": []
    },
    {
      "cell_type": "code",
      "metadata": {
        "id": "jskk9PizLbcZ"
      },
      "source": [
        "spiral_train_data,spiral_test_data=spiral_train_data/255.0,spiral_test_data/255.0\n",
        "\n",
        "wave_train_data,wave_test_data=wave_train_data/255.0,wave_test_data/255.0"
      ],
      "execution_count": null,
      "outputs": []
    },
    {
      "cell_type": "code",
      "metadata": {
        "id": "5XoxAAr_Lbez"
      },
      "source": [
        "from tensorflow.keras.utils import to_categorical\n",
        "spiral_train_labels_one_hot = to_categorical(spiral_train_labels)\n",
        "spiral_test_labels_one_hot = to_categorical(spiral_test_labels)\n",
        "\n",
        "wave_train_labels_one_hot = to_categorical(wave_train_labels)\n",
        "wave_test_labels_one_hot = to_categorical(wave_test_labels)"
      ],
      "execution_count": null,
      "outputs": []
    },
    {
      "cell_type": "markdown",
      "metadata": {
        "id": "eU8HYB2pYCVG"
      },
      "source": [
        "### **Spiral Model**"
      ]
    },
    {
      "cell_type": "code",
      "metadata": {
        "id": "D8IzsLtxKhei"
      },
      "source": [
        "from keras.layers import Dense, Flatten, Conv2D, MaxPooling2D\n",
        "from keras.models import Model, Sequential\n",
        "\n",
        "spiral_extractor = Sequential([\n",
        "Conv2D(32, (3,3), activation = 'relu', input_shape = (128,128,3)),\n",
        "Conv2D(32, (3,3), activation = 'relu'),\n",
        "MaxPooling2D(pool_size=(2,2)),\n",
        "Conv2D(64,(3,3), activation = 'relu'),\n",
        "Conv2D(64, (3,3), activation = 'relu'),\n",
        "MaxPooling2D(pool_size=(2,2)),\n",
        "Flatten()\n",
        "])"
      ],
      "execution_count": null,
      "outputs": []
    },
    {
      "cell_type": "code",
      "metadata": {
        "id": "NAQhfO5cKhg4"
      },
      "source": [
        "# Add dense layers for prediction\n",
        "x = spiral_extractor.output  \n",
        "x = Dense(128, activation = 'relu', kernel_initializer = 'he_uniform')(x)\n",
        "prediction_layer = Dense(2, activation = 'softmax')(x)"
      ],
      "execution_count": null,
      "outputs": []
    },
    {
      "cell_type": "code",
      "metadata": {
        "id": "0wpChHxoKhi6"
      },
      "source": [
        "# Now we combine the feature extractor and CNN for classification\n",
        "cnn_model = Model(inputs=spiral_extractor.input, outputs=prediction_layer)\n",
        "cnn_model.compile(optimizer='adam',loss = 'binary_crossentropy', metrics = ['accuracy'])\n"
      ],
      "execution_count": null,
      "outputs": []
    },
    {
      "cell_type": "code",
      "metadata": {
        "colab": {
          "base_uri": "https://localhost:8080/"
        },
        "id": "rBfi3zhpKhll",
        "outputId": "17ec40aa-6876-4a2d-f215-dbf446b1ea6c"
      },
      "source": [
        "history = cnn_model.fit(spiral_train_data, spiral_train_labels_one_hot, epochs=25, validation_data = (spiral_test_data,spiral_test_labels_one_hot))"
      ],
      "execution_count": null,
      "outputs": [
        {
          "output_type": "stream",
          "name": "stdout",
          "text": [
            "Epoch 1/25\n",
            "3/3 [==============================] - 6s 2s/step - loss: 1.2077 - accuracy: 0.5417 - val_loss: 0.7153 - val_accuracy: 0.5000\n",
            "Epoch 2/25\n",
            "3/3 [==============================] - 5s 2s/step - loss: 0.7096 - accuracy: 0.5000 - val_loss: 0.6959 - val_accuracy: 0.5000\n",
            "Epoch 3/25\n",
            "3/3 [==============================] - 5s 2s/step - loss: 0.6958 - accuracy: 0.5000 - val_loss: 0.6928 - val_accuracy: 0.5000\n",
            "Epoch 4/25\n",
            "3/3 [==============================] - 5s 2s/step - loss: 0.6958 - accuracy: 0.4722 - val_loss: 0.6927 - val_accuracy: 0.5000\n",
            "Epoch 5/25\n",
            "3/3 [==============================] - 5s 2s/step - loss: 0.6936 - accuracy: 0.4444 - val_loss: 0.6967 - val_accuracy: 0.5000\n",
            "Epoch 6/25\n",
            "3/3 [==============================] - 5s 2s/step - loss: 0.6951 - accuracy: 0.5000 - val_loss: 0.6919 - val_accuracy: 0.5000\n",
            "Epoch 7/25\n",
            "3/3 [==============================] - 6s 2s/step - loss: 0.6916 - accuracy: 0.5000 - val_loss: 0.6909 - val_accuracy: 0.7000\n",
            "Epoch 8/25\n",
            "3/3 [==============================] - 5s 2s/step - loss: 0.6911 - accuracy: 0.5694 - val_loss: 0.6893 - val_accuracy: 0.7000\n",
            "Epoch 9/25\n",
            "3/3 [==============================] - 5s 2s/step - loss: 0.6961 - accuracy: 0.5972 - val_loss: 0.6860 - val_accuracy: 0.6333\n",
            "Epoch 10/25\n",
            "3/3 [==============================] - 5s 2s/step - loss: 0.6800 - accuracy: 0.7500 - val_loss: 0.6855 - val_accuracy: 0.5000\n",
            "Epoch 11/25\n",
            "3/3 [==============================] - 5s 2s/step - loss: 0.6767 - accuracy: 0.5278 - val_loss: 0.6778 - val_accuracy: 0.7333\n",
            "Epoch 12/25\n",
            "3/3 [==============================] - 5s 2s/step - loss: 0.6634 - accuracy: 0.8750 - val_loss: 0.6848 - val_accuracy: 0.5000\n",
            "Epoch 13/25\n",
            "3/3 [==============================] - 5s 2s/step - loss: 0.6615 - accuracy: 0.5000 - val_loss: 0.6620 - val_accuracy: 0.7333\n",
            "Epoch 14/25\n",
            "3/3 [==============================] - 5s 2s/step - loss: 0.6349 - accuracy: 0.7500 - val_loss: 0.6567 - val_accuracy: 0.5000\n",
            "Epoch 15/25\n",
            "3/3 [==============================] - 5s 2s/step - loss: 0.6591 - accuracy: 0.5694 - val_loss: 0.6493 - val_accuracy: 0.7667\n",
            "Epoch 16/25\n",
            "3/3 [==============================] - 5s 2s/step - loss: 0.6130 - accuracy: 0.8750 - val_loss: 0.6352 - val_accuracy: 0.6667\n",
            "Epoch 17/25\n",
            "3/3 [==============================] - 5s 2s/step - loss: 0.5628 - accuracy: 0.8194 - val_loss: 0.6852 - val_accuracy: 0.6000\n",
            "Epoch 18/25\n",
            "3/3 [==============================] - 5s 2s/step - loss: 0.5526 - accuracy: 0.7639 - val_loss: 0.6099 - val_accuracy: 0.6333\n",
            "Epoch 19/25\n",
            "3/3 [==============================] - 5s 2s/step - loss: 0.5077 - accuracy: 0.8472 - val_loss: 0.6328 - val_accuracy: 0.7333\n",
            "Epoch 20/25\n",
            "3/3 [==============================] - 5s 2s/step - loss: 0.4995 - accuracy: 0.8333 - val_loss: 0.6753 - val_accuracy: 0.6667\n",
            "Epoch 21/25\n",
            "3/3 [==============================] - 5s 2s/step - loss: 0.5471 - accuracy: 0.7500 - val_loss: 0.6279 - val_accuracy: 0.6333\n",
            "Epoch 22/25\n",
            "3/3 [==============================] - 5s 2s/step - loss: 0.5344 - accuracy: 0.8194 - val_loss: 0.6013 - val_accuracy: 0.6333\n",
            "Epoch 23/25\n",
            "3/3 [==============================] - 5s 2s/step - loss: 0.4560 - accuracy: 0.8889 - val_loss: 0.5530 - val_accuracy: 0.7000\n",
            "Epoch 24/25\n",
            "3/3 [==============================] - 5s 2s/step - loss: 0.3746 - accuracy: 0.8889 - val_loss: 0.5919 - val_accuracy: 0.7000\n",
            "Epoch 25/25\n",
            "3/3 [==============================] - 7s 2s/step - loss: 0.4020 - accuracy: 0.8194 - val_loss: 0.6797 - val_accuracy: 0.6667\n"
          ]
        }
      ]
    },
    {
      "cell_type": "code",
      "metadata": {
        "colab": {
          "base_uri": "https://localhost:8080/"
        },
        "id": "rj_v8mDnPQ8k",
        "outputId": "08e1c21a-7054-452b-bfc0-4408b33837e9"
      },
      "source": [
        "prediction_NN = cnn_model.predict(spiral_test_data)\n",
        "prediction_NN = np.argmax(prediction_NN, axis=-1)\n",
        "prediction_NN"
      ],
      "execution_count": null,
      "outputs": [
        {
          "output_type": "execute_result",
          "data": {
            "text/plain": [
              "array([0, 0, 0, 0, 0, 0, 0, 0, 0, 1, 1, 0, 0, 0, 0, 1, 1, 1, 0, 0, 0, 0,\n",
              "       0, 0, 1, 1, 0, 1, 0, 1])"
            ]
          },
          "metadata": {},
          "execution_count": 13
        }
      ]
    },
    {
      "cell_type": "code",
      "metadata": {
        "colab": {
          "base_uri": "https://localhost:8080/"
        },
        "id": "ZxlqgEeAPRBU",
        "outputId": "f51b2152-5cad-495a-9326-ada935db8920"
      },
      "source": [
        "from sklearn.metrics import accuracy_score,classification_report\n",
        "ans={}\n",
        "ans.update({'Model':'Accuracy'})\n",
        "\n",
        "score=accuracy_score(spiral_test_labels,prediction_NN)\n",
        "score\n",
        "\n",
        "ans.update({'CNN':score})\n",
        "print(classification_report(spiral_test_labels, prediction_NN))"
      ],
      "execution_count": null,
      "outputs": [
        {
          "output_type": "stream",
          "name": "stdout",
          "text": [
            "              precision    recall  f1-score   support\n",
            "\n",
            "           0       0.62      0.87      0.72        15\n",
            "           1       0.78      0.47      0.58        15\n",
            "\n",
            "    accuracy                           0.67        30\n",
            "   macro avg       0.70      0.67      0.65        30\n",
            "weighted avg       0.70      0.67      0.65        30\n",
            "\n"
          ]
        }
      ]
    },
    {
      "cell_type": "code",
      "metadata": {
        "colab": {
          "base_uri": "https://localhost:8080/",
          "height": 295
        },
        "id": "RjnaThg5gwL8",
        "outputId": "55a56a94-6086-4d94-98e4-9e13d43a19b0"
      },
      "source": [
        "loss_train = history.history['accuracy']\n",
        "loss_val = history.history['val_accuracy']\n",
        "epochs = range(0,25)\n",
        "plt.plot(epochs, loss_train, 'g', label='Training accuracy')\n",
        "plt.plot(epochs, loss_val, 'b', label='validation accuracy')\n",
        "plt.title('Training and Validation accuracy')\n",
        "plt.xlabel('Epochs')\n",
        "plt.ylabel('Accuracy')\n",
        "plt.legend()\n",
        "plt.show()"
      ],
      "execution_count": null,
      "outputs": [
        {
          "output_type": "display_data",
          "data": {
            "image/png": "[encoded data removed]",
            "text/plain": [
              "<Figure size 432x288 with 1 Axes>"
            ]
          },
          "metadata": {
            "needs_background": "light"
          }
        }
      ]
    },
    {
      "cell_type": "markdown",
      "metadata": {
        "id": "YZPNTuYSYgGV"
      },
      "source": [
        "# **Now we will random forest to classify Spiral Images**"
      ]
    },
    {
      "cell_type": "code",
      "metadata": {
        "colab": {
          "base_uri": "https://localhost:8080/"
        },
        "id": "lINYMVdMPRDc",
        "outputId": "d5375e10-b38c-46c7-8089-a65a4a4b3df3"
      },
      "source": [
        "X_rf=spiral_extractor.predict(spiral_train_data)\n",
        "X_rf.shape"
      ],
      "execution_count": null,
      "outputs": [
        {
          "output_type": "execute_result",
          "data": {
            "text/plain": [
              "(72, 53824)"
            ]
          },
          "metadata": {},
          "execution_count": 16
        }
      ]
    },
    {
      "cell_type": "code",
      "metadata": {
        "id": "gK1TQAycSJ4K"
      },
      "source": [
        "from sklearn.ensemble import RandomForestClassifier\n",
        "RF_model = RandomForestClassifier(n_estimators = 50, random_state = 42)"
      ],
      "execution_count": null,
      "outputs": []
    },
    {
      "cell_type": "code",
      "metadata": {
        "colab": {
          "base_uri": "https://localhost:8080/"
        },
        "id": "-_7YrDGUSJ6b",
        "outputId": "a8cb1438-ce9f-47e9-a509-6f89d9841d53"
      },
      "source": [
        "RF_model.fit(X_rf,spiral_train_labels)"
      ],
      "execution_count": null,
      "outputs": [
        {
          "output_type": "execute_result",
          "data": {
            "text/plain": [
              "RandomForestClassifier(n_estimators=50, random_state=42)"
            ]
          },
          "metadata": {},
          "execution_count": 18
        }
      ]
    },
    {
      "cell_type": "code",
      "metadata": {
        "colab": {
          "base_uri": "https://localhost:8080/"
        },
        "id": "Rz9Uhk-MSJ8-",
        "outputId": "7b2d8f00-97d3-44b0-efdb-5509b6621c87"
      },
      "source": [
        "xtest_features=spiral_extractor.predict(spiral_test_data)\n",
        "prediction=RF_model.predict(xtest_features)\n",
        "prediction"
      ],
      "execution_count": null,
      "outputs": [
        {
          "output_type": "execute_result",
          "data": {
            "text/plain": [
              "array([0, 0, 0, 1, 0, 0, 0, 0, 0, 0, 1, 0, 0, 1, 0, 1, 1, 1, 0, 1, 0, 1,\n",
              "       1, 1, 1, 1, 0, 1, 1, 0])"
            ]
          },
          "metadata": {},
          "execution_count": 19
        }
      ]
    },
    {
      "cell_type": "code",
      "metadata": {
        "colab": {
          "base_uri": "https://localhost:8080/"
        },
        "id": "NRqeBtJ3SJ-i",
        "outputId": "1dc96590-9550-4962-9540-eb83ea7df60c"
      },
      "source": [
        "score1=accuracy_score(spiral_test_labels,prediction)\n",
        "score1\n",
        "ans.update({'CNN+RF':score1})\n",
        "print(classification_report(spiral_test_labels, prediction))"
      ],
      "execution_count": null,
      "outputs": [
        {
          "output_type": "stream",
          "name": "stdout",
          "text": [
            "              precision    recall  f1-score   support\n",
            "\n",
            "           0       0.75      0.80      0.77        15\n",
            "           1       0.79      0.73      0.76        15\n",
            "\n",
            "    accuracy                           0.77        30\n",
            "   macro avg       0.77      0.77      0.77        30\n",
            "weighted avg       0.77      0.77      0.77        30\n",
            "\n"
          ]
        }
      ]
    },
    {
      "cell_type": "markdown",
      "metadata": {
        "id": "ZZjWDHMmg33J"
      },
      "source": [
        "### **Comparison of both Models**"
      ]
    },
    {
      "cell_type": "code",
      "metadata": {
        "colab": {
          "base_uri": "https://localhost:8080/"
        },
        "id": "UzBa97aJg3cD",
        "outputId": "0ce54ae0-0631-42e3-c709-7b2e2bf1a07f"
      },
      "source": [
        "for i in ans:\n",
        "  print(i,'\\t\\t',ans[i])"
      ],
      "execution_count": null,
      "outputs": [
        {
          "output_type": "stream",
          "name": "stdout",
          "text": [
            "Model \t\t Accuracy\n",
            "CNN \t\t 0.6666666666666666\n",
            "CNN+RF \t\t 0.7666666666666667\n"
          ]
        }
      ]
    },
    {
      "cell_type": "code",
      "metadata": {
        "id": "EFGp8aadX4Io"
      },
      "source": [
        ""
      ],
      "execution_count": null,
      "outputs": []
    },
    {
      "cell_type": "code",
      "metadata": {
        "id": "QZn687AmccqL"
      },
      "source": [
        ""
      ],
      "execution_count": null,
      "outputs": []
    },
    {
      "cell_type": "markdown",
      "metadata": {
        "id": "H4ii9WVohW3x"
      },
      "source": [
        "### **Wave Model**"
      ]
    },
    {
      "cell_type": "code",
      "metadata": {
        "id": "gDVH65dkGbdH"
      },
      "source": [
        "wave_extractor = Sequential([\n",
        "Conv2D(32, (3,3), activation = 'relu', input_shape = (128,128,3)),\n",
        "Conv2D(32, (3,3), activation = 'relu'),\n",
        "MaxPooling2D(pool_size=(2,2)),\n",
        "Conv2D(64,(3,3), activation = 'relu'),\n",
        "Conv2D(64, (3,3), activation = 'relu'),\n",
        "MaxPooling2D(pool_size=(2,2)),\n",
        "Flatten()\n",
        "])"
      ],
      "execution_count": null,
      "outputs": []
    },
    {
      "cell_type": "code",
      "metadata": {
        "id": "2jYBNVIThkyj"
      },
      "source": [
        "x1 = wave_extractor.output  \n",
        "x1 = Dense(128, activation = 'relu', kernel_initializer = 'he_uniform')(x1)\n",
        "prediction_layer1 = Dense(2, activation = 'softmax')(x1)"
      ],
      "execution_count": null,
      "outputs": []
    },
    {
      "cell_type": "code",
      "metadata": {
        "id": "nDtW2uU1hk06"
      },
      "source": [
        "cnn_model1 = Model(inputs=wave_extractor.input, outputs=prediction_layer1)\n",
        "cnn_model1.compile(optimizer='adam',loss = 'binary_crossentropy', metrics = ['accuracy'])"
      ],
      "execution_count": null,
      "outputs": []
    },
    {
      "cell_type": "code",
      "metadata": {
        "colab": {
          "base_uri": "https://localhost:8080/"
        },
        "id": "eX8-lGfZhk3C",
        "outputId": "a97513f3-e142-4020-a9b8-7514c26264d2"
      },
      "source": [
        "history1 = cnn_model1.fit(wave_train_data, wave_train_labels_one_hot, epochs=25, validation_data = (wave_test_data,wave_test_labels_one_hot))"
      ],
      "execution_count": null,
      "outputs": [
        {
          "output_type": "stream",
          "name": "stdout",
          "text": [
            "Epoch 1/25\n",
            "3/3 [==============================] - 6s 2s/step - loss: 1.2869 - accuracy: 0.4722 - val_loss: 0.7132 - val_accuracy: 0.5000\n",
            "Epoch 2/25\n",
            "3/3 [==============================] - 5s 1s/step - loss: 0.7174 - accuracy: 0.4444 - val_loss: 0.6994 - val_accuracy: 0.5000\n",
            "Epoch 3/25\n",
            "3/3 [==============================] - 5s 1s/step - loss: 0.6974 - accuracy: 0.5000 - val_loss: 0.7028 - val_accuracy: 0.5000\n",
            "Epoch 4/25\n",
            "3/3 [==============================] - 5s 1s/step - loss: 0.7011 - accuracy: 0.5000 - val_loss: 0.6964 - val_accuracy: 0.5000\n",
            "Epoch 5/25\n",
            "3/3 [==============================] - 5s 1s/step - loss: 0.6957 - accuracy: 0.5000 - val_loss: 0.6934 - val_accuracy: 0.5000\n",
            "Epoch 6/25\n",
            "3/3 [==============================] - 5s 1s/step - loss: 0.6909 - accuracy: 0.6389 - val_loss: 0.6946 - val_accuracy: 0.5000\n",
            "Epoch 7/25\n",
            "3/3 [==============================] - 5s 1s/step - loss: 0.6934 - accuracy: 0.5000 - val_loss: 0.6930 - val_accuracy: 0.5000\n",
            "Epoch 8/25\n",
            "3/3 [==============================] - 5s 2s/step - loss: 0.6905 - accuracy: 0.5000 - val_loss: 0.6925 - val_accuracy: 0.5000\n",
            "Epoch 9/25\n",
            "3/3 [==============================] - 5s 1s/step - loss: 0.6886 - accuracy: 0.6667 - val_loss: 0.6908 - val_accuracy: 0.5000\n",
            "Epoch 10/25\n",
            "3/3 [==============================] - 5s 1s/step - loss: 0.6754 - accuracy: 0.5694 - val_loss: 0.6882 - val_accuracy: 0.7000\n",
            "Epoch 11/25\n",
            "3/3 [==============================] - 5s 1s/step - loss: 0.6687 - accuracy: 0.7639 - val_loss: 0.6852 - val_accuracy: 0.6333\n",
            "Epoch 12/25\n",
            "3/3 [==============================] - 5s 2s/step - loss: 0.6426 - accuracy: 0.7639 - val_loss: 0.6837 - val_accuracy: 0.6667\n",
            "Epoch 13/25\n",
            "3/3 [==============================] - 5s 2s/step - loss: 0.6394 - accuracy: 0.6389 - val_loss: 0.6867 - val_accuracy: 0.5000\n",
            "Epoch 14/25\n",
            "3/3 [==============================] - 5s 1s/step - loss: 0.6749 - accuracy: 0.5278 - val_loss: 0.6979 - val_accuracy: 0.5000\n",
            "Epoch 15/25\n",
            "3/3 [==============================] - 5s 1s/step - loss: 0.6420 - accuracy: 0.6250 - val_loss: 0.6844 - val_accuracy: 0.5667\n",
            "Epoch 16/25\n",
            "3/3 [==============================] - 5s 1s/step - loss: 0.5746 - accuracy: 0.9167 - val_loss: 0.6867 - val_accuracy: 0.6667\n",
            "Epoch 17/25\n",
            "3/3 [==============================] - 5s 1s/step - loss: 0.5124 - accuracy: 0.9028 - val_loss: 0.7547 - val_accuracy: 0.4333\n",
            "Epoch 18/25\n",
            "3/3 [==============================] - 5s 1s/step - loss: 0.5107 - accuracy: 0.7639 - val_loss: 0.7574 - val_accuracy: 0.6333\n",
            "Epoch 19/25\n",
            "3/3 [==============================] - 5s 1s/step - loss: 0.3949 - accuracy: 0.8611 - val_loss: 0.8059 - val_accuracy: 0.6667\n",
            "Epoch 20/25\n",
            "3/3 [==============================] - 5s 2s/step - loss: 0.3357 - accuracy: 0.8611 - val_loss: 1.0499 - val_accuracy: 0.5000\n",
            "Epoch 21/25\n",
            "3/3 [==============================] - 5s 2s/step - loss: 0.2640 - accuracy: 0.9444 - val_loss: 0.9171 - val_accuracy: 0.5667\n",
            "Epoch 22/25\n",
            "3/3 [==============================] - 5s 2s/step - loss: 0.2863 - accuracy: 0.8889 - val_loss: 1.1321 - val_accuracy: 0.7000\n",
            "Epoch 23/25\n",
            "3/3 [==============================] - 5s 1s/step - loss: 0.1551 - accuracy: 0.9861 - val_loss: 1.3802 - val_accuracy: 0.5667\n",
            "Epoch 24/25\n",
            "3/3 [==============================] - 5s 2s/step - loss: 0.2023 - accuracy: 0.9306 - val_loss: 1.3546 - val_accuracy: 0.6000\n",
            "Epoch 25/25\n",
            "3/3 [==============================] - 5s 1s/step - loss: 0.2103 - accuracy: 0.9167 - val_loss: 1.2292 - val_accuracy: 0.6333\n"
          ]
        }
      ]
    },
    {
      "cell_type": "code",
      "metadata": {
        "colab": {
          "base_uri": "https://localhost:8080/"
        },
        "id": "mZMmiJkRlzyT",
        "outputId": "2c8335aa-cadc-4fd7-c446-881c6efcbe47"
      },
      "source": [
        "prediction_NN1 = cnn_model1.predict(wave_test_data)\n",
        "prediction_NN1 = np.argmax(prediction_NN1, axis=-1)\n",
        "prediction_NN1"
      ],
      "execution_count": null,
      "outputs": [
        {
          "output_type": "execute_result",
          "data": {
            "text/plain": [
              "array([1, 1, 0, 0, 1, 0, 0, 1, 1, 1, 0, 1, 0, 1, 0, 0, 1, 1, 1, 1, 1, 1,\n",
              "       1, 1, 1, 0, 1, 1, 0, 1])"
            ]
          },
          "metadata": {},
          "execution_count": 91
        }
      ]
    },
    {
      "cell_type": "code",
      "metadata": {
        "colab": {
          "base_uri": "https://localhost:8080/"
        },
        "id": "e2AVHVkPlz0q",
        "outputId": "06124e8b-7a02-40da-d0ab-b1004a4e5abd"
      },
      "source": [
        "ans1={}\n",
        "ans1.update({'Model':'Accuracy'})\n",
        "\n",
        "sc=accuracy_score(wave_test_labels,prediction_NN1)\n",
        "sc\n",
        "\n",
        "ans1.update({'CNN':sc})\n",
        "print(classification_report(wave_test_labels, prediction_NN1))"
      ],
      "execution_count": null,
      "outputs": [
        {
          "output_type": "stream",
          "name": "stdout",
          "text": [
            "              precision    recall  f1-score   support\n",
            "\n",
            "           0       0.70      0.47      0.56        15\n",
            "           1       0.60      0.80      0.69        15\n",
            "\n",
            "    accuracy                           0.63        30\n",
            "   macro avg       0.65      0.63      0.62        30\n",
            "weighted avg       0.65      0.63      0.62        30\n",
            "\n"
          ]
        }
      ]
    },
    {
      "cell_type": "code",
      "metadata": {
        "colab": {
          "base_uri": "https://localhost:8080/",
          "height": 295
        },
        "id": "2OfHUUeXlz4R",
        "outputId": "4f88aa58-274d-4fff-c7f6-97967b764d04"
      },
      "source": [
        "acc1 = history1.history['accuracy']\n",
        "val_acc1 = history1.history['val_accuracy']\n",
        "epochs = range(0,25)\n",
        "plt.plot(epochs, acc1, 'y', label='Training accuracy')\n",
        "plt.plot(epochs, val_acc1, 'r', label='Validation accuracy')\n",
        "plt.title('Training and validation accuracy')\n",
        "plt.xlabel('Epochs')\n",
        "plt.ylabel('Accuracy')\n",
        "plt.legend()\n",
        "plt.show()"
      ],
      "execution_count": null,
      "outputs": [
        {
          "output_type": "display_data",
          "data": {
            "image/png": "[encoded data removed]",
            "text/plain": [
              "<Figure size 432x288 with 1 Axes>"
            ]
          },
          "metadata": {
            "needs_background": "light"
          }
        }
      ]
    },
    {
      "cell_type": "markdown",
      "metadata": {
        "id": "YRXMX9BLvkUq"
      },
      "source": [
        "### **Now we will random forest to classify Wave Images**"
      ]
    },
    {
      "cell_type": "code",
      "metadata": {
        "colab": {
          "base_uri": "https://localhost:8080/"
        },
        "id": "MxHeajAilz7w",
        "outputId": "1dabe085-8c46-4681-fbba-47baa3b6bb15"
      },
      "source": [
        "X_rf=wave_extractor.predict(wave_train_data)\n",
        "X_rf.shape"
      ],
      "execution_count": null,
      "outputs": [
        {
          "output_type": "execute_result",
          "data": {
            "text/plain": [
              "(72, 53824)"
            ]
          },
          "metadata": {},
          "execution_count": 94
        }
      ]
    },
    {
      "cell_type": "code",
      "metadata": {
        "id": "apgKZ3oNlz-D"
      },
      "source": [
        "from sklearn.ensemble import RandomForestClassifier\n",
        "RF_model = RandomForestClassifier(n_estimators = 50, random_state = 42)"
      ],
      "execution_count": null,
      "outputs": []
    },
    {
      "cell_type": "code",
      "metadata": {
        "colab": {
          "base_uri": "https://localhost:8080/"
        },
        "id": "OtjYgJ9wl0AQ",
        "outputId": "bdfe9f35-7444-4b8f-83c6-e118a1449083"
      },
      "source": [
        "RF_model.fit(X_rf,wave_train_labels)"
      ],
      "execution_count": null,
      "outputs": [
        {
          "output_type": "execute_result",
          "data": {
            "text/plain": [
              "RandomForestClassifier(n_estimators=50, random_state=42)"
            ]
          },
          "metadata": {},
          "execution_count": 96
        }
      ]
    },
    {
      "cell_type": "code",
      "metadata": {
        "colab": {
          "base_uri": "https://localhost:8080/"
        },
        "id": "ar-b0ZhAwRD9",
        "outputId": "e06ed7b7-f4d4-487d-cf61-ccc57ac4fe96"
      },
      "source": [
        "xtest_features=wave_extractor.predict(wave_test_data)\n",
        "prediction=RF_model.predict(xtest_features)\n",
        "prediction"
      ],
      "execution_count": null,
      "outputs": [
        {
          "output_type": "execute_result",
          "data": {
            "text/plain": [
              "array([1, 0, 0, 0, 1, 0, 0, 0, 1, 1, 0, 0, 1, 0, 0, 0, 1, 1, 1, 1, 1, 1,\n",
              "       0, 1, 1, 0, 1, 1, 0, 1])"
            ]
          },
          "metadata": {},
          "execution_count": 97
        }
      ]
    },
    {
      "cell_type": "code",
      "metadata": {
        "colab": {
          "base_uri": "https://localhost:8080/"
        },
        "id": "G9RM_S6zwRGm",
        "outputId": "23ff8623-8d37-47e1-b8f4-f0cf95f47ac6"
      },
      "source": [
        "score1=accuracy_score(wave_test_labels,prediction)\n",
        "score1\n",
        "ans.update({'CNN+RF':score1})\n",
        "print(classification_report(wave_test_labels, prediction))"
      ],
      "execution_count": null,
      "outputs": [
        {
          "output_type": "stream",
          "name": "stdout",
          "text": [
            "              precision    recall  f1-score   support\n",
            "\n",
            "           0       0.71      0.67      0.69        15\n",
            "           1       0.69      0.73      0.71        15\n",
            "\n",
            "    accuracy                           0.70        30\n",
            "   macro avg       0.70      0.70      0.70        30\n",
            "weighted avg       0.70      0.70      0.70        30\n",
            "\n"
          ]
        }
      ]
    },
    {
      "cell_type": "markdown",
      "metadata": {
        "id": "Q0lSmfT4wdl5"
      },
      "source": [
        "### **Comparison Of models**"
      ]
    },
    {
      "cell_type": "code",
      "metadata": {
        "colab": {
          "base_uri": "https://localhost:8080/"
        },
        "id": "H2iAjUeJwRJM",
        "outputId": "d7b7c3b1-0f5d-48fc-8fa4-fd311c783adb"
      },
      "source": [
        "for i in ans:\n",
        "  print(i,'\\t\\t',ans[i])"
      ],
      "execution_count": null,
      "outputs": [
        {
          "output_type": "stream",
          "name": "stdout",
          "text": [
            "Model \t\t Accuracy\n",
            "CNN \t\t 0.6666666666666666\n",
            "CNN+RF \t\t 0.7\n"
          ]
        }
      ]
    },
    {
      "cell_type": "code",
      "metadata": {
        "id": "-LTMsmoJwRMb"
      },
      "source": [
        ""
      ],
      "execution_count": null,
      "outputs": []
    },
    {
      "cell_type": "code",
      "metadata": {
        "id": "YNh3Cq5zwRQN"
      },
      "source": [
        ""
      ],
      "execution_count": null,
      "outputs": []
    }
  ]
}